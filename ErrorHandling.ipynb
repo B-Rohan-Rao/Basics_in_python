{
 "cells": [
  {
   "cell_type": "markdown",
   "metadata": {},
   "source": [
    "<h1>Exception Handling</h1>"
   ]
  },
  {
   "cell_type": "code",
   "execution_count": 1,
   "metadata": {},
   "outputs": [
    {
     "name": "stdout",
     "output_type": "stream",
     "text": [
      "Program execution started\n",
      "2\n",
      "Hi from else block\n",
      "I will executed everytime.\n",
      "Execution done!!\n"
     ]
    }
   ],
   "source": [
    "try:\n",
    "    print('Program execution started')\n",
    "    age = int(input('Enter your age'))\n",
    "    print(age)\n",
    "except:\n",
    "    print(\"Error has occured\")    \n",
    "\n",
    "else:\n",
    "    print(\"Hi from else block\")        # If there is an error then this block will not be executed.\n",
    "finally:\n",
    "    print(\"I will executed everytime.\")\n",
    "    \n",
    "\n",
    "print(\"Execution done!!\")    "
   ]
  },
  {
   "cell_type": "markdown",
   "metadata": {},
   "source": [
    "Most Common Errors:\n",
    "SyntaxError, TypeError, NameError, IndexError, KeyError, ValueError, AttributeError, ZerodivisionError, IndentationError, ImportError"
   ]
  },
  {
   "cell_type": "code",
   "execution_count": 2,
   "metadata": {},
   "outputs": [
    {
     "name": "stdout",
     "output_type": "stream",
     "text": [
      "0.6666666666666666\n"
     ]
    }
   ],
   "source": [
    "try:\n",
    "    num1 = int(input(\"Enter your first number\"))\n",
    "    num2 = int(input(\"Enter your second number\"))\n",
    "    result = num1/num2\n",
    "    print(result)       \n",
    "except ValueError:\n",
    "    print(\"ValueError occured \\n Please only give numbers as input\")\n",
    "except ZeroDivisionError:\n",
    "    print(\"ZeroDivisionError occured \\n Please don't give 0 as input for num2\")\n",
    "except Exception as e:\n",
    "    print(e,\"error has occured\\nUnknown error has occured\",)    "
   ]
  }
 ],
 "metadata": {
  "kernelspec": {
   "display_name": "Python 3",
   "language": "python",
   "name": "python3"
  },
  "language_info": {
   "codemirror_mode": {
    "name": "ipython",
    "version": 3
   },
   "file_extension": ".py",
   "mimetype": "text/x-python",
   "name": "python",
   "nbconvert_exporter": "python",
   "pygments_lexer": "ipython3",
   "version": "3.9.13"
  }
 },
 "nbformat": 4,
 "nbformat_minor": 2
}
