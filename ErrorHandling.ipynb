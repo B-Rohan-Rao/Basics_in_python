{
 "cells": [
  {
   "cell_type": "markdown",
   "metadata": {},
   "source": [
    "<h1>Exception Handling</h1>"
   ]
  },
  {
   "cell_type": "code",
   "execution_count": 1,
   "metadata": {},
   "outputs": [
    {
     "name": "stdout",
     "output_type": "stream",
     "text": [
      "Program execution started\n",
      "22\n",
      "Hi from else block\n",
      "I will executed everytime.\n",
      "Execution done!!\n"
     ]
    }
   ],
   "source": [
    "try:\n",
    "    print('Program execution started')\n",
    "    age = int(input('Enter your age'))\n",
    "    print(age)\n",
    "except:                                    # If there is an error then this block will be executed.\n",
    "    print(\"Error has occured\")    \n",
    "\n",
    "else:                                       # If there is an error then this block will not be executed.\n",
    "    print(\"Hi from else block\")              \n",
    "finally:                                     # This block will not be executed and is not dependent on error\n",
    "    print(\"I will executed everytime.\")\n",
    "    \n",
    "\n",
    "print(\"Execution done!!\")    "
   ]
  },
  {
   "cell_type": "markdown",
   "metadata": {},
   "source": [
    "Most Common Errors:  \n",
    "SyntaxError, TypeError, NameError, IndexError, KeyError, ValueError, AttributeError, ZerodivisionError, IndentationError, ImportError, FilenotfoundError"
   ]
  },
  {
   "cell_type": "code",
   "execution_count": 2,
   "metadata": {},
   "outputs": [
    {
     "name": "stdout",
     "output_type": "stream",
     "text": [
      "ValueError occured \n",
      " Please only give numbers as input\n"
     ]
    }
   ],
   "source": [
    "try:\n",
    "    num1 = int(input(\"Enter your first number\"))\n",
    "    num2 = int(input(\"Enter your second number\"))\n",
    "    result = num1/num2\n",
    "    print(result)       \n",
    "except ValueError:\n",
    "    print(\"ValueError occured \\n Please only give numbers as input\")\n",
    "except ZeroDivisionError:\n",
    "    print(\"ZeroDivisionError occured \\n Please don't give 0 as input for num2\")\n",
    "except Exception as e:\n",
    "    print(e,\"error has occured\\nUnknown error has occured\",)    "
   ]
  },
  {
   "cell_type": "markdown",
   "metadata": {},
   "source": [
    "Raise block:-  \n",
    "This block is used to raise an error even if there is no error."
   ]
  },
  {
   "cell_type": "code",
   "execution_count": 3,
   "metadata": {},
   "outputs": [
    {
     "ename": "TypeError",
     "evalue": "This is an error that was made to demonstrate theraise block",
     "output_type": "error",
     "traceback": [
      "\u001b[1;31m---------------------------------------------------------------------------\u001b[0m",
      "\u001b[1;31mTypeError\u001b[0m                                 Traceback (most recent call last)",
      "Cell \u001b[1;32mIn[3], line 1\u001b[0m\n\u001b[1;32m----> 1\u001b[0m \u001b[38;5;28;01mraise\u001b[39;00m \u001b[38;5;167;01mTypeError\u001b[39;00m(\u001b[38;5;124m\"\u001b[39m\u001b[38;5;124mThis is an error that was made to demonstrate theraise block\u001b[39m\u001b[38;5;124m\"\u001b[39m)\n",
      "\u001b[1;31mTypeError\u001b[0m: This is an error that was made to demonstrate theraise block"
     ]
    }
   ],
   "source": [
    "raise TypeError(\"This is an error that was made to demonstrate theraise block\")"
   ]
  },
  {
   "cell_type": "markdown",
   "metadata": {},
   "source": [
    "This block can be used with anywhere. it can be combined with the try/except/else/finally block"
   ]
  },
  {
   "cell_type": "markdown",
   "metadata": {},
   "source": []
  }
 ],
 "metadata": {
  "kernelspec": {
   "display_name": "Python 3",
   "language": "python",
   "name": "python3"
  },
  "language_info": {
   "codemirror_mode": {
    "name": "ipython",
    "version": 3
   },
   "file_extension": ".py",
   "mimetype": "text/x-python",
   "name": "python",
   "nbconvert_exporter": "python",
   "pygments_lexer": "ipython3",
   "version": "3.12.2"
  }
 },
 "nbformat": 4,
 "nbformat_minor": 2
}
