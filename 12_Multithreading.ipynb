{
 "cells": [
  {
   "cell_type": "markdown",
   "metadata": {},
   "source": [
    "<h1> Multithreading</h1>"
   ]
  },
  {
   "cell_type": "code",
   "execution_count": 1,
   "metadata": {},
   "outputs": [
    {
     "name": "stdout",
     "output_type": "stream",
     "text": [
      "sleeping for 4 seconds\n",
      "sleeping for 2 seconds\n",
      "sleeping for 1 seconds\n",
      "4.0183480000000005\n"
     ]
    }
   ],
   "source": [
    "import threading\n",
    "import time\n",
    "\n",
    "\n",
    "# Without using threading library.\n",
    "time1 = time.perf_counter()\n",
    "def func(seconds):\n",
    "    print(f\"sleeping for {seconds} seconds\")\n",
    "    time.sleep(seconds)\n",
    "\n",
    "# func(4)                     #Uncomment to see the difference between the time with and without threading library.\n",
    "# func(2)\n",
    "# func(1)    \n",
    "# time2 = time.perf_counter()\n",
    "# print(time2 - time1)  \n",
    "\n",
    "\n",
    "# Using threading library.\n",
    "t1 = threading.Thread(target=func, args = [4])\n",
    "t2 = threading.Thread(target=func, args = [2])\n",
    "t3 = threading.Thread(target=func, args = [1])\n",
    "\n",
    "t1.start()                 # The thread has started at this point. It is working in the background and the further program will be executed\n",
    "t2.start()\n",
    "t3.start()\n",
    "\n",
    "t1.join()                  # This method will make the program wait untill the thread is not executed completely.\n",
    "t2.join()\n",
    "t3.join()\n",
    "\n",
    "time3 = time.perf_counter()\n",
    "print(time3 - time1) \n"
   ]
  },
  {
   "cell_type": "code",
   "execution_count": 2,
   "metadata": {},
   "outputs": [
    {
     "name": "stdout",
     "output_type": "stream",
     "text": [
      "sleeping for 3 seconds\n",
      "sleeping for 2 seconds\n",
      "sleeping for 4 seconds\n",
      "None\n",
      "None\n",
      "None\n"
     ]
    }
   ],
   "source": [
    "import threading\n",
    "import time\n",
    "from concurrent.futures import ThreadPoolExecutor       # It helps when we want to schedule credible task in bulk\n",
    "\n",
    "\n",
    "# Without using threading library.\n",
    "time1 = time.perf_counter()\n",
    "def func(seconds):\n",
    "    print(f\"sleeping for {seconds} seconds\")\n",
    "    time.sleep(seconds)\n",
    " \n",
    "    \n",
    "# def main():\n",
    "#     # Using threading library.\n",
    "#     t1 = threading.Thread(target=func, args = [4])\n",
    "#     t2 = threading.Thread(target=func, args = [2])\n",
    "#     t3 = threading.Thread(target=func, args = [1])\n",
    "\n",
    "#     t1.start()                \n",
    "#     t2.start()\n",
    "#     t3.start()\n",
    "\n",
    "#     t1.join()                 \n",
    "#     t2.join()\n",
    "#     t3.join()\n",
    "\n",
    "#     time3 = time.perf_counter()\n",
    "#     print(time3 - time1) \n",
    "\n",
    "def poolingDemo():    \n",
    "    with ThreadPoolExecutor() as executor:    \n",
    "        future1 = executor.submit(func, 3)\n",
    "        future2 = executor.submit(func, 2)\n",
    "        future3 = executor.submit(func, 4)\n",
    "        print(future1.result())\n",
    "        print(future2.result())\n",
    "        print(future3.result())\n",
    "\n",
    "\n",
    "poolingDemo()        \n"
   ]
  },
  {
   "cell_type": "code",
   "execution_count": 3,
   "metadata": {},
   "outputs": [
    {
     "name": "stdout",
     "output_type": "stream",
     "text": [
      "sleeping for 3 seconds\n",
      "sleeping for 5 seconds\n",
      "sleeping for 1 seconds\n",
      "sleeping for 2 seconds\n",
      "None\n",
      "None\n",
      "None\n",
      "None\n"
     ]
    }
   ],
   "source": [
    "# MAP FUNCTION --> Alternative syntax for ThreadPoolExecutor\n",
    "\n",
    "\n",
    "import threading\n",
    "import time\n",
    "from concurrent.futures import ThreadPoolExecutor       # It helps when we want to schedule credible task in bulk\n",
    "\n",
    "\n",
    "# Without using threading library.\n",
    "time1 = time.perf_counter()\n",
    "def func(seconds):\n",
    "    print(f\"sleeping for {seconds} seconds\")\n",
    "    time.sleep(seconds)\n",
    "\n",
    "\n",
    "def poolingDemo():    \n",
    "    with ThreadPoolExecutor() as executor:\n",
    "        ls = [3, 5, 1, 2]\n",
    "        results = executor.map(func, ls)\n",
    "        for result in results:\n",
    "            print(result)\n",
    "        \n",
    "\n",
    "\n",
    "poolingDemo()        \n"
   ]
  }
 ],
 "metadata": {
  "kernelspec": {
   "display_name": "Python 3",
   "language": "python",
   "name": "python3"
  },
  "language_info": {
   "codemirror_mode": {
    "name": "ipython",
    "version": 3
   },
   "file_extension": ".py",
   "mimetype": "text/x-python",
   "name": "python",
   "nbconvert_exporter": "python",
   "pygments_lexer": "ipython3",
   "version": "3.9.13"
  }
 },
 "nbformat": 4,
 "nbformat_minor": 2
}
