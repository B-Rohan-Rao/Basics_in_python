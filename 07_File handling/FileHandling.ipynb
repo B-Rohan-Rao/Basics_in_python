{
 "cells": [
  {
   "cell_type": "markdown",
   "metadata": {},
   "source": [
    "<h2>File Handling</h2?"
   ]
  },
  {
   "cell_type": "code",
   "execution_count": 1,
   "metadata": {},
   "outputs": [],
   "source": [
    "import os"
   ]
  },
  {
   "cell_type": "code",
   "execution_count": 2,
   "metadata": {},
   "outputs": [
    {
     "name": "stdout",
     "output_type": "stream",
     "text": [
      "This is the first file that I created using file handling.\n",
      "😂😂\n"
     ]
    }
   ],
   "source": [
    "file = open(\"hello.txt\")\n",
    "data = file.read()\n",
    "print(data)"
   ]
  },
  {
   "cell_type": "code",
   "execution_count": 3,
   "metadata": {},
   "outputs": [
    {
     "name": "stdout",
     "output_type": "stream",
     "text": [
      "This is the first file th\n"
     ]
    }
   ],
   "source": [
    "file = open(\"hello.txt\",'r')\n",
    "data = file.read(25)          # The number will specify the numberof characters that will be read from the folder.\n",
    "print(data)"
   ]
  },
  {
   "cell_type": "code",
   "execution_count": 4,
   "metadata": {},
   "outputs": [],
   "source": [
    "file = open('hello.txt','w')\n",
    "data = \"\"\"This is the first file that I created using file handling.\"\"\"\n",
    "file.write(data)\n",
    "file.close()"
   ]
  },
  {
   "cell_type": "code",
   "execution_count": 5,
   "metadata": {},
   "outputs": [
    {
     "name": "stdout",
     "output_type": "stream",
     "text": [
      "This is the first file that I created using file handling.\n"
     ]
    }
   ],
   "source": [
    "file = open(\"hello.txt\",'r')\n",
    "data = file.read()\n",
    "print(data)"
   ]
  },
  {
   "cell_type": "code",
   "execution_count": 6,
   "metadata": {},
   "outputs": [
    {
     "name": "stdout",
     "output_type": "stream",
     "text": [
      "\n"
     ]
    }
   ],
   "source": [
    "data = file.read(25)          # The file will start reaing from the point it left. this wil happen if the file is not closed\n",
    "print(data)\n",
    "# There are amultiple kinds of mode. namely append(a), write(w), read(r), create(w)"
   ]
  },
  {
   "cell_type": "code",
   "execution_count": 7,
   "metadata": {},
   "outputs": [],
   "source": [
    "file = open('hello.txt','a', encoding = 'utf-8')  # This is especially important when you're working with text that includes non-ASCII characters, like emojis (e.g., \"😂😂\").\n",
    "message = \"😂😂\"\n",
    "file.write(message)\n",
    "file.close()"
   ]
  },
  {
   "cell_type": "markdown",
   "metadata": {},
   "source": [
    "<h3>Proper syntax</h3>"
   ]
  },
  {
   "cell_type": "code",
   "execution_count": 8,
   "metadata": {},
   "outputs": [
    {
     "name": "stdout",
     "output_type": "stream",
     "text": [
      "This is the first file that I created using file handling.😂😂\n"
     ]
    }
   ],
   "source": [
    "with open('hello.txt','r', encoding='utf-8') as file:\n",
    "    data = file.read()\n",
    "    print(data)       # By using this method, we don't need to write \"file.close()\"."
   ]
  },
  {
   "cell_type": "code",
   "execution_count": 9,
   "metadata": {},
   "outputs": [
    {
     "name": "stdout",
     "output_type": "stream",
     "text": [
      "1\n"
     ]
    }
   ],
   "source": [
    "with open(\"hello.txt\",'r',encoding = \"utf-8\") as file:\n",
    "    data = file.readlines()\n",
    "    print(len(data))"
   ]
  },
  {
   "cell_type": "code",
   "execution_count": 10,
   "metadata": {},
   "outputs": [
    {
     "name": "stdout",
     "output_type": "stream",
     "text": [
      "11\n"
     ]
    }
   ],
   "source": [
    "with open(\"hello.txt\",'r',encoding = 'utf-8') as file:\n",
    "    data = file.read()\n",
    "    new_list = []\n",
    "    for item in data.split():\n",
    "        new_list.append(len(item))\n",
    "    print(max(new_list))\n",
    "    "
   ]
  }
 ],
 "metadata": {
  "kernelspec": {
   "display_name": "Python 3",
   "language": "python",
   "name": "python3"
  },
  "language_info": {
   "codemirror_mode": {
    "name": "ipython",
    "version": 3
   },
   "file_extension": ".py",
   "mimetype": "text/x-python",
   "name": "python",
   "nbconvert_exporter": "python",
   "pygments_lexer": "ipython3",
   "version": "3.9.13"
  }
 },
 "nbformat": 4,
 "nbformat_minor": 2
}
